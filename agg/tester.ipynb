{
 "cells": [
  {
   "cell_type": "code",
   "execution_count": 1,
   "id": "5044c6b4-e8fb-4456-a893-6d56ac999fa8",
   "metadata": {},
   "outputs": [
    {
     "name": "stdout",
     "output_type": "stream",
     "text": [
      "URL: https://www.nytimes.com/2022/06/28/us/politics/trump-truth-social-jan-6-hearing-twitter.html\n",
      "Title: Trump Aides Watch Testimony and Brace for Damage\n",
      "Date: 2022-06-28 00:00:00\n",
      "Text preview: WASHINGTON — Devastating new testimony by a former White House aide describing a president desperate...\n",
      "\n",
      "URL: https://www.nytimes.com/2022/06/29/us/women-abortion-roe-wade.html\n",
      "Title: For Many Women, Roe Was About More Than Abortion. It Was About Freedom.\n",
      "Date: 2022-06-29 00:00:00\n",
      "Text preview: ‘My jaw is clenched all day, every day’\n",
      "\n",
      "In May, a draft opinion on the Dobbs v. Jackson Women’s Hea...\n",
      "\n",
      "URL: https://www.nytimes.com/interactive/2022/06/29/us/illnois-abortion-roe-wade.html\n",
      "Title: How the Overturning of Roe v. Wade Might Affect Abortion Access in Illinois\n",
      "Date: 2022-06-29 00:00:00\n",
      "Text preview: FAIRVIEW HEIGHTS, Ill. — Illinois is quickly emerging as an island of abortion access for people in ...\n",
      "\n",
      "URL: https://www.nytimes.com/2022/06/28/us/politics/illinois-colorado-primaries.html\n",
      "Title: Illinois Governor’s Race Shows G.O.P.’s Lurch to Right (With Nudge From Left)\n",
      "Date: 2022-06-28 00:00:00\n",
      "Text preview: Republican voters in Illinois nominated a conservative hard-liner for governor on Tuesday, lifting S...\n",
      "\n",
      "URL: https://www.nytimes.com/2022/06/29/magazine/moderate-democrat.html\n",
      "Title: The Vanishing Moderate Democrat\n",
      "Date: 2022-06-29 00:00:00\n",
      "Text preview: Pelosi, however, had agreed to their demands and secured their support. Now she was willing to hear ...\n",
      "\n"
     ]
    }
   ],
   "source": [
    "from sqlite_utils import Database\n",
    "from itertools import islice\n",
    "\n",
    "db_file = \"../nyt.db\"\n",
    "table_name = \"../nyt_stories\"\n",
    "\n",
    "db = Database(db_file)\n",
    "\n",
    "for row in islice(db[table_name].rows, 5):\n",
    "    print(f\"URL: {row['url']}\")\n",
    "    print(f\"Title: {row['title']}\")\n",
    "    print(f\"Date: {row['publish_date']}\")\n",
    "    print(f\"Text preview: {row['text'][:100]}...\\n\")"
   ]
  },
  {
   "cell_type": "code",
   "execution_count": 3,
   "id": "ae647b1c-c6bc-46f3-b9de-5e9fce84f8aa",
   "metadata": {},
   "outputs": [
    {
     "name": "stdout",
     "output_type": "stream",
     "text": [
      "URL: https://www.nytimes.com/2025/04/02/climate/coal-plant-colstrip-epa-email-pollution-exemption.html\n",
      "Title: Coal Plant Ranked as Nation’s Dirtiest Asks for Pollution Exemption\n",
      "Date: 2025-04-02 00:00:00\n",
      "Text preview: The Trump administration has also announced its intention to roll back a slew of rules entirely, which could eventually mean that plants like the one in Colstrip would not have to meet new pollution standards at all.\n",
      "\n",
      "The move was part of a wider effort by Mr. Zeldin to steer the agency away from its original role of environmental protection and regulation and toward making energy and cars more affordable.\n",
      "\n",
      "NorthWestern Energy Group and Talen Energy, which operate the plant along with other mino...\n",
      "\n",
      "URL: https://www.nytimes.com/2025/04/02/us/politics/republicans-senate-rules-tax-cuts.html\n",
      "Title: Republicans Plan to Skirt Senate Rules to Push Through More Tax Cuts\n",
      "Date: 2025-04-02 00:00:00\n",
      "Text preview: For decades, senators looking to push major budget and tax legislation through Congress on a simple majority vote have had to win the blessing of a single unelected figure on Capitol Hill.\n",
      "\n",
      "The Senate parliamentarian, a civil servant who acts as the arbiter and enforcer of the chamber’s byzantine rules, has traditionally been in a position to make or break entire presidential agendas. That includes determining whether budget and tax legislation can be fast-tracked through Congress and shielded f...\n",
      "\n",
      "URL: https://www.nytimes.com/2025/04/02/world/middleeast/gaza-aid-workers-gunshot-wounds.html\n",
      "Title: Some Aid Workers Killed in Gaza Were Shot Multiple Times, Officials Say\n",
      "Date: 2025-04-02 00:00:00\n",
      "Text preview: Days after the United Nations accused Israel of killing 15 humanitarian workers in Gaza, officials who recovered the bodies or carried out the autopsies said some of the rescue workers were shot multiple times before being buried in a mass grave.\n",
      "\n",
      "The Palestine Red Crescent Society, which had eight of its members killed and carried out the recovery mission, said that nearly all 15 bodies showed gunshot wounds, according to a spokeswoman, Nebal Farsakh. One paramedic was found with his hands and ...\n",
      "\n",
      "URL: https://www.nytimes.com/2025/04/02/health/cdc-tump-health.html\n",
      "Title: Trump Administration Demands Additional Cuts at C.D.C.\n",
      "Date: 2025-04-02 00:00:00\n",
      "Text preview: Officials at the White House and the Department of Health and Human Services did not immediately respond to requests for comment.\n",
      "\n",
      "Abruptly cutting 35 percent of contracts would be tough for any organization or business, said Tom Inglesby, director of the Johns Hopkins Center for Health Security at the Bloomberg School of Public Health, who advised the Biden administration during Covid.\n",
      "\n",
      "“Sure, any manager can find small savings and improvements, but these kinds of demands are of the size and sp...\n",
      "\n",
      "URL: https://www.nytimes.com/2025/04/02/us/politics/doge-wilson-center.html\n",
      "Title: Musk’s Task Force Begins Shutting Down Foreign Policy Research Center\n",
      "Date: 2025-04-02 00:00:00\n",
      "Text preview: The head of the Wilson Center, a storied foreign policy think tank, resigned on Tuesday, a day after employees from Elon Musk’s government-overhauling team arrived at the group’s Washington headquarters to dismantle it, according to people familiar with the actions at the center.\n",
      "\n",
      "The resignation of the president, Mark Green, a Republican, and the visit from Mr. Musk’s Department of Government Efficiency team, indicated that the Trump administration was carrying out an executive order President ...\n",
      "\n",
      "URL: https://www.nytimes.com/2025/04/02/weather/tornado-storms-midwest-weather.html\n",
      "Title: Tornadoes Reported in South and Midwest as Powerful Storms Strike\n",
      "Date: 2025-04-02 00:00:00\n",
      "Text preview: Multiple tornadoes were reported across parts of the South and the Midwest on Wednesday, as a powerful storm that is expected to linger for days swept into the region.\n",
      "\n",
      "Multiple injuries were reported in Kentucky and Arkansas, including a child in critical condition, and one person was trapped in a collapsed warehouse in Indiana, officials said. The tornadoes knocked down trees, disrupted power, and damaged homes and businesses, the authorities said.\n",
      "\n",
      "The National Weather Service issued tornado ...\n",
      "\n",
      "URL: https://www.nytimes.com/2025/04/02/style/white-lotus-composer-season-4-leaving.html\n",
      "Title: Composer of the ‘White Lotus’ Theme Song Won’t Return for Season 4\n",
      "Date: 2025-04-02 00:00:00\n",
      "Text preview: Cristóbal Tapia de Veer did not have an entirely pleasant stay at “The White Lotus.”\n",
      "\n",
      "Mr. Tapia de Veer, a 51-year-old composer who was born in Chile, joined a video call on Monday from his home in the Laurentian Mountains in Quebec, a gong the size of a beach ball visible over his right shoulder. We had planned to discuss his score for Season 3 of the HBO show — specifically, its reworked main title theme, which ignited a minor fury among fans when the season premiered in February.\n",
      "\n",
      "The convers...\n",
      "\n",
      "URL: https://www.nytimes.com/2025/04/02/travel/train-stations-restaurants-london-kyoto-copenhagen-paris-nyc.html\n",
      "Title: Train Stations Are for Dining, Too\n",
      "Date: 2025-04-02 00:00:00\n",
      "Text preview: With its copper bar and brass-rail-backed banquettes, Lazare evokes a traditional Parisian brasserie, but registers as modern with its exposed ductwork overhead and wall units filled with stacked white plates, pitchers, vases and other objects. Similarly, the stylish comfort-food menu includes Normandy oysters, onion soup and roasted sausage with buttery potato purée, as well as contemporary dishes like scallop-and-oyster tartare with curry oil, and pineapple carpaccio with lemon-mint sorbet.\n",
      "\n",
      "U...\n",
      "\n",
      "URL: https://www.nytimes.com/2025/04/02/business/economy/trump-tariff-rates-calculation.html\n",
      "Title: How Are Trump’s Tariff Rates Calculated?\n",
      "Date: 2025-04-02 00:00:00\n",
      "Text preview: As he unfurled his list of tariffs targeting most of America’s trading partners, President Trump repeatedly stressed that each nation’s rate was reciprocal — reflecting the barriers they had long erected to U.S. goods.\n",
      "\n",
      "He said little about the methodology behind those calculations, but a possible answer emerged later on Wednesday. Each country’s new tariff rate appeared to be derived by:\n",
      "\n",
      "Taking the trade deficit that America runs with that nation and dividing it by the exports that country sen...\n",
      "\n",
      "URL: https://www.nytimes.com/2025/04/02/business/economy/trump-tariffs-us-business-groups-response.html\n",
      "Title: Americans’ Reactions to Trump’s Tariffs Range From Worried to Enthusiastic\n",
      "Date: 2025-04-02 00:00:00\n",
      "Text preview: President Trump’s announcement of sweeping universal and so-called reciprocal tariffs on countries around the world drew a swift rebuke on Wednesday from business groups, trade experts, Democratic lawmakers and many economists who warned that they would raise prices for American consumers and slow economic growth.\n",
      "\n",
      "“This is catastrophic for American families,” said Matt Priest, president and chief executive of the Footwear Distributors and Retailers of America. “We had hoped the president would ...\n",
      "\n"
     ]
    }
   ],
   "source": [
    "bottom_rows = list(db[table_name].rows)[-10:]\n",
    "for row in bottom_rows:\n",
    "    print(f\"URL: {row['url']}\")\n",
    "    print(f\"Title: {row['title']}\")\n",
    "    print(f\"Date: {row['publish_date']}\")\n",
    "    print(f\"Text preview: {row['text'][:500]}...\\n\")"
   ]
  },
  {
   "cell_type": "code",
   "execution_count": 8,
   "id": "8731f7c0-8321-4d60-8c3d-e354c7ad7c07",
   "metadata": {},
   "outputs": [
    {
     "name": "stdout",
     "output_type": "stream",
     "text": [
      "Tables: ['../cbs_stories']\n",
      "Table 'cbs_stories' not found!\n"
     ]
    }
   ],
   "source": [
    "from sqlite_utils import Database\n",
    "\n",
    "db = Database(\"../cbs.db\")\n",
    "print(\"Tables:\", db.table_names())\n",
    "\n",
    "if \"cbs_stories\" in db.table_names():\n",
    "    print(\"Row count:\", db[\"cbs_stories\"].count)\n",
    "else:\n",
    "    print(\"Table 'cbs_stories' not found!\")"
   ]
  },
  {
   "cell_type": "code",
   "execution_count": 10,
   "id": "a6d5eefa-56ee-4423-a342-3be5412e9894",
   "metadata": {},
   "outputs": [
    {
     "name": "stdout",
     "output_type": "stream",
     "text": [
      "Schema:\n",
      "\n",
      "CREATE TABLE [../cbs_stories] (\n",
      "   [url] TEXT PRIMARY KEY,\n",
      "   [source] TEXT,\n",
      "   [publish_date] TEXT,\n",
      "   [title] TEXT,\n",
      "   [authors] TEXT,\n",
      "   [text] TEXT,\n",
      "   [extraction_date] TEXT,\n",
      "   [domain] TEXT\n",
      ")\n"
     ]
    }
   ],
   "source": [
    "schema = db[table_name].schema\n",
    "print(\"Schema:\\n\")\n",
    "print(schema)"
   ]
  },
  {
   "cell_type": "code",
   "execution_count": null,
   "id": "549f4e54-82f3-4a08-bd8d-20698fba14d1",
   "metadata": {},
   "outputs": [],
   "source": []
  }
 ],
 "metadata": {
  "kernelspec": {
   "display_name": "Python 3.11 (Data Science)",
   "language": "python",
   "name": "py311ds"
  },
  "language_info": {
   "codemirror_mode": {
    "name": "ipython",
    "version": 3
   },
   "file_extension": ".py",
   "mimetype": "text/x-python",
   "name": "python",
   "nbconvert_exporter": "python",
   "pygments_lexer": "ipython3",
   "version": "3.11.11"
  }
 },
 "nbformat": 4,
 "nbformat_minor": 5
}
